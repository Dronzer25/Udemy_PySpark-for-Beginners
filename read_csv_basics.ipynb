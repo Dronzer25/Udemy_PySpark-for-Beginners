{
 "cells": [
  {
   "cell_type": "code",
   "execution_count": 1,
   "id": "21f38778",
   "metadata": {},
   "outputs": [],
   "source": [
    "from pyspark.sql import SparkSession\n",
    "\n",
    "# Create Spark session\n",
    "spark = SparkSession.builder \\\n",
    "    .appName(\"DiamondsExample\") \\\n",
    "    .getOrCreate()\n",
    "\n",
    "diamonds_df = spark.read.format(\"csv\") \\\n",
    "            .option(\"header\" , \"true\") \\\n",
    "            .option(\"inferSchema\" , \"true\")\\\n",
    "            .load(\"datasets/diamonds.csv\") \n",
    "\n"
   ]
  },
  {
   "cell_type": "code",
   "execution_count": 2,
   "id": "11988ba6",
   "metadata": {},
   "outputs": [
    {
     "name": "stdout",
     "output_type": "stream",
     "text": [
      "+------+-----+-----------+-----+-------+-----+-----+-----+----+----+----+\n",
      "|serial|carat|        cut|color|clarity|depth|table|price|   x|   y|   z|\n",
      "+------+-----+-----------+-----+-------+-----+-----+-----+----+----+----+\n",
      "|     1| 3.33|  excellent|    I|     IF|64.12| 67.7| 2988|8.09|7.44|2.31|\n",
      "|     2| 4.79|       good|    G|    VS1|55.32| 53.3| 2494|9.17|5.04|2.07|\n",
      "|     3| 0.98|       good|    J|   VVS2|62.31|68.66| 7702|8.27|6.81|2.89|\n",
      "|     4| 3.95|  excellent|    J|     IF|55.39|52.35|10279|5.41|8.38|4.49|\n",
      "|     5| 3.42|  excellent|    J|    SI2|61.47|62.92| 9834|5.56|4.61|4.09|\n",
      "|     6| 1.29|      ideal|    F|     IF|62.21|62.03|15122|4.31|4.56|3.23|\n",
      "|     7| 4.73|  excellent|    D|    SI2|60.92|52.06| 3773|7.33|7.07| 4.5|\n",
      "|     8| 2.79|      ideal|    I|     IF|57.71|64.19|16753|7.28|4.86|4.77|\n",
      "|     9| 2.37|      ideal|    H|    SI2|61.01| 59.6|15301|4.83|8.15|2.24|\n",
      "|    10| 1.14|fairly good|    J|    SI2|61.93|60.29|19112|9.95|8.97|3.95|\n",
      "|    11| 4.87|  excellent|    D|    VS2|62.69|64.07|15870| 3.6|7.82|4.41|\n",
      "|    12| 1.49|fairly good|    J|    VS2|62.68|50.92|13596| 6.6|7.39|5.49|\n",
      "|    13| 0.61|fairly good|    F|     IF|55.64|54.34|13470|8.25|4.69| 4.3|\n",
      "|    14| 2.86|      ideal|    G|     I1|56.32|52.39| 1038|4.89|6.88|2.04|\n",
      "|    15| 4.51|fairly good|    F|     IF|55.44|59.04|19547|7.75|6.18| 5.7|\n",
      "|    16| 1.94|       good|    H|    VS2|61.76|50.92| 6492| 4.6|9.02|3.47|\n",
      "|    17| 2.44|  excellent|    E|    SI1|64.84|60.25|11782|5.36|7.23|3.35|\n",
      "|    18| 3.28|       good|    J|    SI2|58.68|65.31|11958|9.65|9.14|2.33|\n",
      "|    19| 3.28|       good|    H|     IF|58.59|53.06| 4886|4.52| 9.7|2.36|\n",
      "|    20| 1.06|fairly good|    E|   VVS1|64.75| 53.8| 9868|5.47|7.47|2.06|\n",
      "+------+-----+-----------+-----+-------+-----+-----+-----+----+----+----+\n",
      "only showing top 20 rows\n"
     ]
    }
   ],
   "source": [
    "diamonds_df.show()\n"
   ]
  },
  {
   "cell_type": "code",
   "execution_count": 3,
   "id": "d6808e23",
   "metadata": {},
   "outputs": [
    {
     "name": "stdout",
     "output_type": "stream",
     "text": [
      "+-----+------------------+\n",
      "|color|        avg(price)|\n",
      "+-----+------------------+\n",
      "|    D|10953.066666666668|\n",
      "|    E|11171.357142857143|\n",
      "|    F|            9963.8|\n",
      "|    G| 8360.533333333333|\n",
      "|    H| 10559.35294117647|\n",
      "|    I| 9342.461538461539|\n",
      "|    J|        10646.5625|\n",
      "+-----+------------------+\n",
      "\n"
     ]
    }
   ],
   "source": [
    "from pyspark.sql.functions import avg\n",
    "\n",
    "result_df = diamonds_df.select(\"color\" , \"price\")\\\n",
    "                        .groupBy(\"color\")\\\n",
    "                        .agg(avg(\"price\"))\\\n",
    "                        .sort(\"color\")\n",
    "                        \n",
    "result_df.show()"
   ]
  },
  {
   "cell_type": "code",
   "execution_count": 4,
   "id": "2667c2c1",
   "metadata": {},
   "outputs": [
    {
     "data": {
      "text/plain": [
       "DataFrame[color: string, avg(price): double]"
      ]
     },
     "metadata": {},
     "output_type": "display_data"
    }
   ],
   "source": [
    "display(result_df)\n"
   ]
  }
 ],
 "metadata": {
  "kernelspec": {
   "display_name": "py310",
   "language": "python",
   "name": "python3"
  },
  "language_info": {
   "codemirror_mode": {
    "name": "ipython",
    "version": 3
   },
   "file_extension": ".py",
   "mimetype": "text/x-python",
   "name": "python",
   "nbconvert_exporter": "python",
   "pygments_lexer": "ipython3",
   "version": "3.10.18"
  }
 },
 "nbformat": 4,
 "nbformat_minor": 5
}
