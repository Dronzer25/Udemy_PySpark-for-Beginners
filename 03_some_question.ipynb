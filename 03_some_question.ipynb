{
 "cells": [
  {
   "cell_type": "code",
   "execution_count": 1,
   "id": "4bb5c8c9",
   "metadata": {},
   "outputs": [],
   "source": [
    "from pyspark.sql.functions import *"
   ]
  },
  {
   "cell_type": "code",
   "execution_count": 2,
   "id": "5264723a",
   "metadata": {},
   "outputs": [],
   "source": [
    "from pyspark.sql import SparkSession\n",
    "\n",
    "# Create Spark session\n",
    "spark = SparkSession.builder \\\n",
    "    .appName(\"FireCalls\") \\\n",
    "    .getOrCreate()\n",
    "\n",
    "raw_fire_df = spark.read.format(\"csv\") \\\n",
    "            .option(\"header\" , \"true\") \\\n",
    "            .option(\"inferSchema\" , \"true\")\\\n",
    "            .load(\"datasets/sf-fire-calls.csv\") "
   ]
  },
  {
   "cell_type": "code",
   "execution_count": 3,
   "id": "e16629e4",
   "metadata": {},
   "outputs": [
    {
     "name": "stdout",
     "output_type": "stream",
     "text": [
      "root\n",
      " |-- CallNumber: integer (nullable = true)\n",
      " |-- UnitID: string (nullable = true)\n",
      " |-- IncidentNumber: integer (nullable = true)\n",
      " |-- CallType: string (nullable = true)\n",
      " |-- CallDate: string (nullable = true)\n",
      " |-- WatchDate: string (nullable = true)\n",
      " |-- CallFinalDisposition: string (nullable = true)\n",
      " |-- AvailableDtTm: string (nullable = true)\n",
      " |-- Address: string (nullable = true)\n",
      " |-- City: string (nullable = true)\n",
      " |-- Zipcode: integer (nullable = true)\n",
      " |-- Battalion: string (nullable = true)\n",
      " |-- StationArea: string (nullable = true)\n",
      " |-- Box: string (nullable = true)\n",
      " |-- OriginalPriority: string (nullable = true)\n",
      " |-- Priority: string (nullable = true)\n",
      " |-- FinalPriority: integer (nullable = true)\n",
      " |-- ALSUnit: boolean (nullable = true)\n",
      " |-- CallTypeGroup: string (nullable = true)\n",
      " |-- NumAlarms: integer (nullable = true)\n",
      " |-- UnitType: string (nullable = true)\n",
      " |-- UnitSequenceInCallDispatch: integer (nullable = true)\n",
      " |-- FirePreventionDistrict: string (nullable = true)\n",
      " |-- SupervisorDistrict: string (nullable = true)\n",
      " |-- Neighborhood: string (nullable = true)\n",
      " |-- Location: string (nullable = true)\n",
      " |-- RowID: string (nullable = true)\n",
      " |-- Delay: double (nullable = true)\n",
      "\n",
      "+----------+------+--------------+----------------+----------+----------+--------------------+--------------------+--------------------+----+-------+---------+-----------+----+----------------+--------+-------------+-------+-------------+---------+--------------+--------------------------+----------------------+------------------+--------------------+--------------------+-------------+---------+\n",
      "|CallNumber|UnitID|IncidentNumber|        CallType|  CallDate| WatchDate|CallFinalDisposition|       AvailableDtTm|             Address|City|Zipcode|Battalion|StationArea| Box|OriginalPriority|Priority|FinalPriority|ALSUnit|CallTypeGroup|NumAlarms|      UnitType|UnitSequenceInCallDispatch|FirePreventionDistrict|SupervisorDistrict|        Neighborhood|            Location|        RowID|    Delay|\n",
      "+----------+------+--------------+----------------+----------+----------+--------------------+--------------------+--------------------+----+-------+---------+-----------+----+----------------+--------+-------------+-------+-------------+---------+--------------+--------------------------+----------------------+------------------+--------------------+--------------------+-------------+---------+\n",
      "|  20110016|   T13|       2003235|  Structure Fire|01/11/2002|01/10/2002|               Other|01/11/2002 01:51:...|2000 Block of CAL...|  SF|  94109|      B04|         38|3362|               3|       3|            3|  false|         NULL|        1|         TRUCK|                         2|                     4|                 5|     Pacific Heights|(37.7895840679362...|020110016-T13|     2.95|\n",
      "|  20110022|   M17|       2003241|Medical Incident|01/11/2002|01/10/2002|               Other|01/11/2002 03:01:...|0 Block of SILVER...|  SF|  94124|      B10|         42|6495|               3|       3|            3|   true|         NULL|        1|         MEDIC|                         1|                    10|                10|Bayview Hunters P...|(37.7337623673897...|020110022-M17|      4.7|\n",
      "|  20110023|   M41|       2003242|Medical Incident|01/11/2002|01/10/2002|               Other|01/11/2002 02:39:...|MARKET ST/MCALLIS...|  SF|  94102|      B03|         01|1455|               3|       3|            3|   true|         NULL|        1|         MEDIC|                         2|                     3|                 6|          Tenderloin|(37.7811772186856...|020110023-M41|2.4333334|\n",
      "|  20110032|   E11|       2003250|    Vehicle Fire|01/11/2002|01/10/2002|               Other|01/11/2002 04:16:...|APPLETON AV/MISSI...|  SF|  94110|      B06|         32|5626|               3|       3|            3|  false|         NULL|        1|        ENGINE|                         1|                     6|                 9|      Bernal Heights|(37.7388432849018...|020110032-E11|      1.5|\n",
      "|  20110043|   B04|       2003259|          Alarms|01/11/2002|01/10/2002|               Other|01/11/2002 06:01:...|1400 Block of SUT...|  SF|  94109|      B04|         03|3223|               3|       3|            3|  false|         NULL|        1|         CHIEF|                         2|                     4|                 2|    Western Addition|(37.7872890372638...|020110043-B04|3.4833333|\n",
      "|  20110072|   T08|       2003279|  Structure Fire|01/11/2002|01/11/2002|               Other|01/11/2002 08:03:...|  BEALE ST/FOLSOM ST|  SF|  94105|      B03|         35|2122|               3|       3|            3|  false|         NULL|        1|         TRUCK|                         2|                     3|                 6|Financial Distric...|(37.7886866619654...|020110072-T08|     1.75|\n",
      "|  20110125|   E33|       2003301|          Alarms|01/11/2002|01/11/2002|               Other|01/11/2002 09:46:...|0 Block of FARALL...|  SF|  94112|      B09|         33|8324|               3|       3|            3|  false|         NULL|        1|        ENGINE|                         2|                     9|                11|Oceanview/Merced/...|(37.7140353531157...|020110125-E33|2.7166667|\n",
      "|  20110130|   E36|       2003304|          Alarms|01/11/2002|01/11/2002|               Other|01/11/2002 09:58:...|600 Block of POLK ST|  SF|  94102|      B02|         03|3114|               3|       3|            3|  false|         NULL|        1|        ENGINE|                         1|                     2|                 6|          Tenderloin|(37.7826266328595...|020110130-E36|1.7833333|\n",
      "|  20110197|   E05|       2003343|Medical Incident|01/11/2002|01/11/2002|               Other|01/11/2002 12:06:...|1500 Block of WEB...|  SF|  94115|      B04|         05|3513|               3|       3|            3|  false|         NULL|        1|        ENGINE|                         1|                     4|                 5|           Japantown|(37.784958590666,...|020110197-E05|1.5166667|\n",
      "|  20110215|   E06|       2003348|Medical Incident|01/11/2002|01/11/2002|               Other|01/11/2002 01:08:...|DIAMOND ST/MARKET ST|  SF|  94114|      B05|         06|5415|               3|       3|            3|  false|         NULL|        1|        ENGINE|                         1|                     5|                 8| Castro/Upper Market|(37.7618954753708...|020110215-E06|2.7666667|\n",
      "|  20110274|   M07|       2003381|Medical Incident|01/11/2002|01/11/2002|               Other|01/11/2002 03:31:...|2700 Block of MIS...|  SF|  94110|      B06|         11|5525|               1|       1|            2|   true|         NULL|        1|         MEDIC|                         1|                     6|                 9|             Mission|(37.7530339738059...|020110274-M07|2.1833334|\n",
      "|  20110275|   T15|       2003382|  Structure Fire|01/11/2002|01/11/2002|               Other|01/11/2002 02:59:...|BRUNSWICK ST/GUTT...|  SF|  94112|      B09|         43|6218|               3|       3|            3|  false|         NULL|        1|         TRUCK|                         1|                     9|                11|           Excelsior|(37.7105545807996...|020110275-T15|      2.5|\n",
      "|  20110304|   E03|       2003399|Medical Incident|01/11/2002|01/11/2002|               Other|01/11/2002 04:22:...|1000 Block of SUT...|  SF|  94109|      B04|         03|1557|               3|       3|            3|  false|         NULL|        1|        ENGINE|                         1|                     4|                 3|            Nob Hill|(37.7881263034393...|020110304-E03|2.4166667|\n",
      "|  20110308|   E14|       2003403|Medical Incident|01/11/2002|01/11/2002|               Other|01/11/2002 04:18:...|100 Block of 21ST...|  SF|  94121|      B07|         14|7173|               3|       3|            3|  false|         NULL|        1|        ENGINE|                         1|                     7|                 1|      Outer Richmond|(37.7850084431077...|020110308-E14|     4.95|\n",
      "|  20110313|   B10|       2003408|  Structure Fire|01/11/2002|01/11/2002|               Other|01/11/2002 04:09:...|700 Block of CAPP ST|  SF|  94110|      B06|         07|5472|               3|       3|            3|  false|         NULL|        1|         CHIEF|                         6|                     6|                 9|             Mission|(37.7547064357942...|020110313-B10|1.4166666|\n",
      "|  20110313|    D3|       2003408|  Structure Fire|01/11/2002|01/11/2002|               Other|01/11/2002 04:09:...|700 Block of CAPP ST|  SF|  94110|      B06|         07|5472|               3|       3|            3|  false|         NULL|        1|         CHIEF|                         4|                     6|                 9|             Mission|(37.7547064357942...| 020110313-D3|2.5333333|\n",
      "|  20110313|   E32|       2003408|  Structure Fire|01/11/2002|01/11/2002|               Other|01/11/2002 04:09:...|700 Block of CAPP ST|  SF|  94110|      B06|         07|5472|               3|       3|            3|   true|         NULL|        1|        ENGINE|                         8|                     6|                 9|             Mission|(37.7547064357942...|020110313-E32|1.8833333|\n",
      "|  20110315|   RC2|       2003409|Medical Incident|01/11/2002|01/11/2002|               Other|01/11/2002 04:34:...|200 Block of LAGU...|  SF|  94116|      B08|         20|8635|               3|       3|            3|   true|         NULL|        1|RESCUE CAPTAIN|                         2|                     8|                 7|  West of Twin Peaks|(37.7501117393668...|020110315-RC2|     5.35|\n",
      "|  20110330|   E14|       2003417|Medical Incident|01/11/2002|01/11/2002|               Other|01/11/2002 04:51:...|BALBOA ST/PARK PR...|  SF|  94118|      B07|         31|7145|               3|       3|            3|  false|         NULL|        1|        ENGINE|                         1|                     7|                 1|      Inner Richmond|(37.7768682293368...|020110330-E14|      2.0|\n",
      "|  20110330|   M12|       2003417|Medical Incident|01/11/2002|01/11/2002|               Other|01/11/2002 04:51:...|BALBOA ST/PARK PR...|  SF|  94118|      B07|         31|7145|               3|       3|            3|   true|         NULL|        1|         MEDIC|                         2|                     7|                 1|      Inner Richmond|(37.7768682293368...|020110330-M12|1.8166667|\n",
      "+----------+------+--------------+----------------+----------+----------+--------------------+--------------------+--------------------+----+-------+---------+-----------+----+----------------+--------+-------------+-------+-------------+---------+--------------+--------------------------+----------------------+------------------+--------------------+--------------------+-------------+---------+\n",
      "only showing top 20 rows\n"
     ]
    }
   ],
   "source": [
    "raw_fire_df.printSchema()\n",
    "raw_fire_df.show()"
   ]
  },
  {
   "cell_type": "code",
   "execution_count": 4,
   "id": "16af5e04",
   "metadata": {},
   "outputs": [],
   "source": [
    "renamed_fire_df = raw_fire_df \\\n",
    "                    .withColumnRenamed('CallNumber', 'CallNo')"
   ]
  },
  {
   "cell_type": "code",
   "execution_count": 5,
   "id": "32fe344e",
   "metadata": {},
   "outputs": [],
   "source": [
    "fire_df = renamed_fire_df   \\\n",
    "                .withColumn('CallDate' , to_date('CallDate' , 'MM/dd/yyyy')) \\\n",
    "                .withColumn('WatchDate' , to_date('WatchDate' , 'MM/dd/yyyy')) \\\n",
    "                .withColumn('AvailableDtTm' , to_timestamp('AvailableDtTm' , 'MM/dd/yyyy hh:mm:ss a')) \\\n",
    "                .withColumn('Delay' , round(\"Delay\" , 2))\n",
    "                "
   ]
  },
  {
   "cell_type": "code",
   "execution_count": 6,
   "id": "b36ed4e8",
   "metadata": {},
   "outputs": [
    {
     "name": "stdout",
     "output_type": "stream",
     "text": [
      "root\n",
      " |-- CallNo: integer (nullable = true)\n",
      " |-- UnitID: string (nullable = true)\n",
      " |-- IncidentNumber: integer (nullable = true)\n",
      " |-- CallType: string (nullable = true)\n",
      " |-- CallDate: date (nullable = true)\n",
      " |-- WatchDate: date (nullable = true)\n",
      " |-- CallFinalDisposition: string (nullable = true)\n",
      " |-- AvailableDtTm: timestamp (nullable = true)\n",
      " |-- Address: string (nullable = true)\n",
      " |-- City: string (nullable = true)\n",
      " |-- Zipcode: integer (nullable = true)\n",
      " |-- Battalion: string (nullable = true)\n",
      " |-- StationArea: string (nullable = true)\n",
      " |-- Box: string (nullable = true)\n",
      " |-- OriginalPriority: string (nullable = true)\n",
      " |-- Priority: string (nullable = true)\n",
      " |-- FinalPriority: integer (nullable = true)\n",
      " |-- ALSUnit: boolean (nullable = true)\n",
      " |-- CallTypeGroup: string (nullable = true)\n",
      " |-- NumAlarms: integer (nullable = true)\n",
      " |-- UnitType: string (nullable = true)\n",
      " |-- UnitSequenceInCallDispatch: integer (nullable = true)\n",
      " |-- FirePreventionDistrict: string (nullable = true)\n",
      " |-- SupervisorDistrict: string (nullable = true)\n",
      " |-- Neighborhood: string (nullable = true)\n",
      " |-- Location: string (nullable = true)\n",
      " |-- RowID: string (nullable = true)\n",
      " |-- Delay: double (nullable = true)\n",
      "\n"
     ]
    }
   ],
   "source": [
    "fire_df.printSchema()"
   ]
  },
  {
   "cell_type": "code",
   "execution_count": 7,
   "id": "1c58d6e6",
   "metadata": {},
   "outputs": [
    {
     "data": {
      "text/plain": [
       "DataFrame[CallNo: int, UnitID: string, IncidentNumber: int, CallType: string, CallDate: date, WatchDate: date, CallFinalDisposition: string, AvailableDtTm: timestamp, Address: string, City: string, Zipcode: int, Battalion: string, StationArea: string, Box: string, OriginalPriority: string, Priority: string, FinalPriority: int, ALSUnit: boolean, CallTypeGroup: string, NumAlarms: int, UnitType: string, UnitSequenceInCallDispatch: int, FirePreventionDistrict: string, SupervisorDistrict: string, Neighborhood: string, Location: string, RowID: string, Delay: double]"
      ]
     },
     "execution_count": 7,
     "metadata": {},
     "output_type": "execute_result"
    }
   ],
   "source": [
    "fire_df.cache()\n",
    "# help to clean up memory and execute it faster"
   ]
  },
  {
   "cell_type": "code",
   "execution_count": 8,
   "id": "46aa64bc",
   "metadata": {},
   "outputs": [
    {
     "name": "stdout",
     "output_type": "stream",
     "text": [
      "+-----------------------+\n",
      "|distinct_calltype_count|\n",
      "+-----------------------+\n",
      "|                     30|\n",
      "+-----------------------+\n",
      "\n",
      "30\n"
     ]
    }
   ],
   "source": [
    "# Q1 how many distinct types of calls were made to the fire department ?\n",
    "# Using SQL\n",
    "fire_df.createOrReplaceTempView(\"fire_service_calls_view\")\n",
    "q1_sql_df = spark.sql(\"\"\"\n",
    "                       select count(distinct CallType) as distinct_calltype_count\n",
    "                       from fire_service_calls_view\n",
    "                       where CallType is not null \n",
    "                      \"\"\")\n",
    "q1_sql_df.show()\n",
    "\n",
    "# Using Dataframe\n",
    "q1_df = fire_df.where(\"CallType is not null\")\\\n",
    "    .select(\"CallType\")\\\n",
    "    .distinct()\n",
    "print(q1_df.count())"
   ]
  },
  {
   "cell_type": "code",
   "execution_count": 9,
   "id": "5e2ea1dc",
   "metadata": {},
   "outputs": [
    {
     "name": "stdout",
     "output_type": "stream",
     "text": [
      "+--------------------+\n",
      "|   distinct_calltype|\n",
      "+--------------------+\n",
      "|Elevator / Escala...|\n",
      "|  Aircraft Emergency|\n",
      "|              Alarms|\n",
      "|Odor (Strange / U...|\n",
      "|Citizen Assist / ...|\n",
      "|              HazMat|\n",
      "|           Explosion|\n",
      "|           Oil Spill|\n",
      "|        Vehicle Fire|\n",
      "|  Suspicious Package|\n",
      "|Extrication / Ent...|\n",
      "|               Other|\n",
      "|        Outside Fire|\n",
      "|   Traffic Collision|\n",
      "|       Assist Police|\n",
      "|Gas Leak (Natural...|\n",
      "|        Water Rescue|\n",
      "|   Electrical Hazard|\n",
      "|   High Angle Rescue|\n",
      "|      Structure Fire|\n",
      "+--------------------+\n",
      "only showing top 20 rows\n"
     ]
    }
   ],
   "source": [
    "# Q2  select distinct types of calls were made to the fire department ? \n",
    "q1_df = fire_df.where(\"CallType is not null\")\\\n",
    "    .select(expr(\"CallType as distinct_calltype\" ))\\\n",
    "    .distinct()\\\n",
    "    .show()\n",
    "    "
   ]
  },
  {
   "cell_type": "code",
   "execution_count": 10,
   "id": "7dc42401",
   "metadata": {},
   "outputs": [
    {
     "name": "stdout",
     "output_type": "stream",
     "text": [
      "+--------+-----+\n",
      "|  CallNo|Delay|\n",
      "+--------+-----+\n",
      "|20110315| 5.35|\n",
      "|20120147| 6.25|\n",
      "|20130013|  5.2|\n",
      "|20140067|  5.6|\n",
      "|20140177| 7.25|\n",
      "|20150056|11.92|\n",
      "|20150254| 5.12|\n",
      "|20150265| 8.63|\n",
      "|20150265|95.28|\n",
      "|20150380| 5.45|\n",
      "|20150414|  7.6|\n",
      "|20160059| 6.13|\n",
      "|20160064| 5.18|\n",
      "|20170118| 6.92|\n",
      "|20170342|  5.2|\n",
      "|20180129| 6.35|\n",
      "|20180191| 7.98|\n",
      "|20180382|13.55|\n",
      "|20190062| 5.15|\n",
      "|20190097|13.58|\n",
      "+--------+-----+\n",
      "only showing top 20 rows\n"
     ]
    }
   ],
   "source": [
    "# Q3. Find all response for delayed times greate then 5\n",
    "q3_df = fire_df.where(\"Delay > 5\")\\\n",
    "                .select(\"CallNo\" , \"Delay\")\\\n",
    "                .show()\n",
    "                "
   ]
  },
  {
   "cell_type": "code",
   "execution_count": 11,
   "id": "cb4e75b6",
   "metadata": {},
   "outputs": [
    {
     "name": "stdout",
     "output_type": "stream",
     "text": [
      "+--------------------+------+\n",
      "|            CallType| count|\n",
      "+--------------------+------+\n",
      "|    Medical Incident|113794|\n",
      "|      Structure Fire| 23319|\n",
      "|              Alarms| 19406|\n",
      "|   Traffic Collision|  7013|\n",
      "|Citizen Assist / ...|  2524|\n",
      "|               Other|  2166|\n",
      "|        Outside Fire|  2094|\n",
      "|        Vehicle Fire|   854|\n",
      "|Gas Leak (Natural...|   764|\n",
      "|        Water Rescue|   755|\n",
      "|Odor (Strange / U...|   490|\n",
      "|   Electrical Hazard|   482|\n",
      "|Elevator / Escala...|   453|\n",
      "|Smoke Investigati...|   391|\n",
      "|          Fuel Spill|   193|\n",
      "|              HazMat|   124|\n",
      "|Industrial Accidents|    94|\n",
      "|           Explosion|    89|\n",
      "|Train / Rail Inci...|    57|\n",
      "|  Aircraft Emergency|    36|\n",
      "+--------------------+------+\n",
      "only showing top 20 rows\n"
     ]
    }
   ],
   "source": [
    "# Q4 what were the most common call type\n",
    "\n",
    "q4_df = fire_df.select(\"CallType\")\\\n",
    "    .where(\"CallType is not null\")\\\n",
    "        .groupBy(\"CallType\")\\\n",
    "            .count()\\\n",
    "                .orderBy(\"count\" , ascending=False)\\\n",
    "                .show()\n"
   ]
  },
  {
   "cell_type": "code",
   "execution_count": 12,
   "id": "d0235689",
   "metadata": {},
   "outputs": [
    {
     "name": "stdout",
     "output_type": "stream",
     "text": [
      "+--------------------+-------+-----+\n",
      "|            CallType|Zipcode|count|\n",
      "+--------------------+-------+-----+\n",
      "|           Oil Spill|  94112|    1|\n",
      "|              HazMat|  94127|    1|\n",
      "|           Explosion|  94104|    1|\n",
      "|           Oil Spill|  94124|    1|\n",
      "|       Assist Police|  94103|    1|\n",
      "|              Alarms|   NULL|    1|\n",
      "|           Explosion|   NULL|    1|\n",
      "|       Assist Police|  94114|    1|\n",
      "|Extrication / Ent...|  94102|    1|\n",
      "|       Assist Police|  94122|    1|\n",
      "|   High Angle Rescue|  94107|    1|\n",
      "|              HazMat|  94123|    1|\n",
      "|   High Angle Rescue|  94123|    1|\n",
      "|      Administrative|  94105|    1|\n",
      "|Odor (Strange / U...|  94158|    1|\n",
      "|Confined Space / ...|  94112|    1|\n",
      "|Confined Space / ...|  94114|    1|\n",
      "|  Suspicious Package|  94132|    1|\n",
      "|         Marine Fire|  94109|    1|\n",
      "|Extrication / Ent...|  94109|    1|\n",
      "+--------------------+-------+-----+\n",
      "only showing top 20 rows\n"
     ]
    }
   ],
   "source": [
    "# Q5 What zipcodes accounted for most common calls\n",
    "\n",
    "q5_df = fire_df.where(\"CallType is not null\")\\\n",
    "    .select(\"CallType\" , \"Zipcode\")\\\n",
    "        .groupBy(\"CallType\" , \"Zipcode\")\\\n",
    "            .count()\\\n",
    "                .orderBy('count' , asscending = False)\\\n",
    "                    .show()\n",
    "                \n"
   ]
  },
  {
   "cell_type": "code",
   "execution_count": 13,
   "id": "5d2f784c",
   "metadata": {},
   "outputs": [
    {
     "name": "stdout",
     "output_type": "stream",
     "text": [
      "+--------------------+-------+\n",
      "|        Neighborhood|Zipcode|\n",
      "+--------------------+-------+\n",
      "|          Tenderloin|  94102|\n",
      "|          Tenderloin|  94102|\n",
      "|     South of Market|  94103|\n",
      "|             Mission|  94103|\n",
      "|             Mission|  94103|\n",
      "|     South of Market|  94103|\n",
      "|          Tenderloin|  94102|\n",
      "|        Hayes Valley|  94102|\n",
      "|          Tenderloin|  94102|\n",
      "|          Tenderloin|  94102|\n",
      "|     South of Market|  94103|\n",
      "|        Hayes Valley|  94102|\n",
      "|Financial Distric...|  94103|\n",
      "|        Hayes Valley|  94102|\n",
      "|             Mission|  94103|\n",
      "|          Tenderloin|  94102|\n",
      "|          Tenderloin|  94102|\n",
      "|        Hayes Valley|  94102|\n",
      "|     South of Market|  94103|\n",
      "|     South of Market|  94103|\n",
      "+--------------------+-------+\n",
      "only showing top 20 rows\n"
     ]
    }
   ],
   "source": [
    "# Q6. What San Francisco neighborhoods are in the zip codes 94102 and 94103\n",
    "# select distinct Neighborhood, Zipcode\n",
    "# from fire_service_calls_tbl\n",
    "# where Zipcode== 94102 or Zipcode == 94103\n",
    "\n",
    "\n",
    "q6_df = fire_df.select('Neighborhood' , 'Zipcode')\\\n",
    "    .where('Zipcode== 94102 or Zipcode == 94103').show()\n",
    "\n",
    "\n",
    "                "
   ]
  },
  {
   "cell_type": "code",
   "execution_count": null,
   "id": "3c4e8c5f",
   "metadata": {},
   "outputs": [],
   "source": [
    "# Q7. What was the sum of all calls, average, min and max of the response times for calls?\n",
    "# select sum(NumAlarms), avg(Delay), min(Delay), max(Delay)\n",
    "# from fire_service_calls_tbl\n",
    "\n",
    "\n",
    "     \n",
    "# Q8. How many distinct years of data is in the CSV file?\n",
    "# select distinct year(to_timestamp(CallDate, \"MM/dd/yyyy\")) as year_num\n",
    "# from fire_service_calls_tbl\n",
    "# order by year_num\n",
    "\n",
    "\n",
    "     \n",
    "# Q9. What week of the year in 2018 had the most fire calls?\n",
    "# select weekofyear(to_timestamp(CallDate, \"MM/dd/yyyy\")) week_year, count(*) as count\n",
    "# from fire_service_calls_tbl \n",
    "# where year(to_timestamp(CallDate, \"MM/dd/yyyy\")) == 2018\n",
    "# group by week_year\n",
    "# order by count desc\n",
    "\n",
    "\n",
    "     \n",
    "# Q10. What neighborhoods in San Francisco had the worst response time in 2018?\n",
    "# select Neighborhood, Delay\n",
    "# from fire_service_calls_tbl \n",
    "# where year(to_timestamp(CallDate, \"MM/dd/yyyy\")) == 2018"
   ]
  }
 ],
 "metadata": {
  "kernelspec": {
   "display_name": "py310",
   "language": "python",
   "name": "python3"
  },
  "language_info": {
   "codemirror_mode": {
    "name": "ipython",
    "version": 3
   },
   "file_extension": ".py",
   "mimetype": "text/x-python",
   "name": "python",
   "nbconvert_exporter": "python",
   "pygments_lexer": "ipython3",
   "version": "3.10.18"
  }
 },
 "nbformat": 4,
 "nbformat_minor": 5
}
